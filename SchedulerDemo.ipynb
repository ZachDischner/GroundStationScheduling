{
 "cells": [
  {
   "cell_type": "code",
   "execution_count": 1,
   "metadata": {
    "collapsed": false
   },
   "outputs": [],
   "source": [
    "import scheduler"
   ]
  },
  {
   "cell_type": "code",
   "execution_count": 5,
   "metadata": {
    "collapsed": false
   },
   "outputs": [
    {
     "name": "stderr",
     "output_type": "stream",
     "text": [
      "(2017-05-24 12:15:23) (INFO) [scheduler.__init__ #182]:  Creating new SchedulerGraph() with starting access (root): Access: (7181005) sat1 <--> ground_site1_2a(9031.069 MB), 2017-02-15 23:53:36.101531 - 2017-02-16 00:00:34.101531, (unadjusted score: 8357.217 )\n",
      "(2017-05-24 12:15:23) (INFO) [scheduler.optimize_multipass #424]:  Running 3 passes of DFS schedule optimization\n"
     ]
    },
    {
     "name": "stdout",
     "output_type": "stream",
     "text": [
      "Cached DFS searching ........................................................................................"
     ]
    },
    {
     "name": "stderr",
     "output_type": "stream",
     "text": [
      "(2017-05-24 12:17:03) (INFO) [scheduler.optimize_multipass #435]:  Run 1: Best overall score 565946.2049708596\n",
      "(2017-05-24 12:17:03) (INFO) [scheduler.validate_schedule #231]:  Validating schedule consisting of contacts: (7181005, 7181832, 7182549, 7182678, 7184349, 7184200, 7184241, 7184311, 7184376, 7184420, 7184489, 7185500, 7185820, 7185853, 7185915, 7185951, 7186004, 7186845, 7187532, 7187582, 7187655, 7187693, 7187757, 7188002, 7189984, 7190064, 7190124, 7190560, 7190631, 7190676, 7193054, 7194480, 7194620, 7195153, 7195312, 7195439, 7196701, 7196855, 7197021, 7197458, 7197567, 7197723, 7198454, 7198579, 7198703, 7198858, 7198965, 7199105, 7199893, 7200127, 7200304, 7200576, 7200702, 7200854, 7202080, 7202318, 7202603, 7202811, 7202958, 7203110, 7204523, 7204878, 7205083, 7205177, 7205252, 7205371, 7205825, 7207344, 7207994, 7208191, 7208298, 7208413, 7209123, 7210545, 7210867, 7211420, 7211536, 7211634, 7212882, 7213602, 7213775, 7214312, 7214467, 7214585, 7215526)\n",
      "(2017-05-24 12:17:03) (WARNING) [scheduler.validate_schedule #244]:  Satellite (sat8) only had 2 contacts in this schedule! Minimum expected: 3\n",
      "(2017-05-24 12:17:03) (WARNING) [scheduler.validate_schedule #244]:  Satellite (sat10) only had 2 contacts in this schedule! Minimum expected: 3\n",
      "(2017-05-24 12:17:03) (WARNING) [scheduler.validate_schedule #244]:  Satellite (sat12) only had 1 contacts in this schedule! Minimum expected: 3\n",
      "(2017-05-24 12:17:03) (WARNING) [scheduler.validate_schedule #255]:  Antenna (ground_site1_1) had 13 contacts in this schedule! Maximum allowed: 6\n",
      "(2017-05-24 12:17:03) (WARNING) [scheduler.validate_schedule #255]:  Antenna (ground_site2_1) had 15 contacts in this schedule! Maximum allowed: 6\n"
     ]
    },
    {
     "name": "stdout",
     "output_type": "stream",
     "text": [
      "\r",
      "Cached DFS searching .\n"
     ]
    },
    {
     "name": "stderr",
     "output_type": "stream",
     "text": [
      "(2017-05-24 12:17:03) (WARNING) [scheduler.validate_schedule #255]:  Antenna (ground_site3_3) had 8 contacts in this schedule! Maximum allowed: 6\n",
      "(2017-05-24 12:17:03) (WARNING) [scheduler.validate_schedule #255]:  Antenna (ground_site5_1) had 8 contacts in this schedule! Maximum allowed: 6\n",
      "(2017-05-24 12:17:03) (WARNING) [scheduler.validate_schedule #255]:  Antenna (ground_site6_1) had 10 contacts in this schedule! Maximum allowed: 6\n",
      "(2017-05-24 12:17:03) (INFO) [scheduler.optimize_multipass #442]:  Satellite sat8 did not get enough passes (2). Applying higher weight for future runs: 1.0 -> 1.25\n",
      "(2017-05-24 12:17:03) (INFO) [scheduler.optimize_multipass #442]:  Satellite sat10 did not get enough passes (2). Applying higher weight for future runs: 1.0 -> 1.25\n",
      "(2017-05-24 12:17:03) (INFO) [scheduler.optimize_multipass #442]:  Satellite sat12 did not get enough passes (1). Applying higher weight for future runs: 1.0 -> 1.25\n",
      "(2017-05-24 12:17:03) (INFO) [scheduler.optimize_multipass #451]:  Antenna ground_site1_2b just (2). Applying higher weight for future runs: 1.0 -> 1.05\n",
      "(2017-05-24 12:17:03) (INFO) [scheduler.optimize_multipass #451]:  Antenna ground_site1_2c just (2). Applying higher weight for future runs: 1.0 -> 1.05\n",
      "(2017-05-24 12:17:03) (INFO) [scheduler.optimize_multipass #447]:  Antenna ground_site1_1 had too many passes (13). Applying lower weight for future runs: 1.0 -> 0.5\n",
      "(2017-05-24 12:17:03) (INFO) [scheduler.optimize_multipass #451]:  Antenna ground_site1_2 just (1). Applying higher weight for future runs: 1.0 -> 1.05\n",
      "(2017-05-24 12:17:03) (INFO) [scheduler.optimize_multipass #447]:  Antenna ground_site2_1 had too many passes (15). Applying lower weight for future runs: 1.0 -> 0.5\n",
      "(2017-05-24 12:17:03) (INFO) [scheduler.optimize_multipass #451]:  Antenna ground_site3_2 just (1). Applying higher weight for future runs: 1.0 -> 1.05\n",
      "(2017-05-24 12:17:03) (INFO) [scheduler.optimize_multipass #447]:  Antenna ground_site3_3 had too many passes (8). Applying lower weight for future runs: 1.0 -> 1.0\n",
      "(2017-05-24 12:17:03) (INFO) [scheduler.optimize_multipass #451]:  Antenna ground_site4_1 just (2). Applying higher weight for future runs: 1.0 -> 1.05\n",
      "(2017-05-24 12:17:03) (INFO) [scheduler.optimize_multipass #447]:  Antenna ground_site5_1 had too many passes (8). Applying lower weight for future runs: 1.0 -> 1.0\n",
      "(2017-05-24 12:17:03) (INFO) [scheduler.optimize_multipass #447]:  Antenna ground_site6_1 had too many passes (10). Applying lower weight for future runs: 1.0 -> 1.0\n"
     ]
    },
    {
     "name": "stdout",
     "output_type": "stream",
     "text": [
      "Cached DFS searching ........................................................................................"
     ]
    },
    {
     "name": "stderr",
     "output_type": "stream",
     "text": [
      "(2017-05-24 12:18:43) (INFO) [scheduler.optimize_multipass #435]:  Run 2: Best overall score 596246.0269081012\n",
      "(2017-05-24 12:18:43) (INFO) [scheduler.validate_schedule #231]:  Validating schedule consisting of contacts: (7180999, 7181832, 7182551, 7182680, 7184349, 7184200, 7184243, 7184353, 7184391, 7184452, 7185047, 7185804, 7185853, 7185915, 7185953, 7186006, 7186846, 7187531, 7187581, 7187654, 7187695, 7187756, 7188003, 7189983, 7190064, 7190147, 7190560, 7190631, 7190678, 7193054, 7194480, 7194620, 7195153, 7195312, 7195439, 7196701, 7196855, 7197021, 7197458, 7197568, 7197723, 7198456, 7198580, 7198702, 7198852, 7198967, 7199107, 7199894, 7200129, 7200304, 7200511, 7200619, 7200762, 7201597, 7202082, 7202320, 7202605, 7202811, 7202960, 7203112, 7204523, 7204877, 7205082, 7205179, 7205279, 7205409, 7206538, 7207658, 7207998, 7208149, 7208258, 7208346, 7208441, 7209874, 7210573, 7210867, 7211420, 7211536, 7211634, 7212884, 7213610, 7213776, 7214317, 7214467, 7214587, 7215526)\n",
      "(2017-05-24 12:18:43) (WARNING) [scheduler.validate_schedule #244]:  Satellite (sat3) only had 1 contacts in this schedule! Minimum expected: 3\n",
      "(2017-05-24 12:18:43) (WARNING) [scheduler.validate_schedule #255]:  Antenna (ground_site1_2) had 21 contacts in this schedule! Maximum allowed: 6\n"
     ]
    },
    {
     "name": "stdout",
     "output_type": "stream",
     "text": [
      "\r",
      "Cached DFS searching .\r",
      "Cached DFS searching .\n"
     ]
    },
    {
     "name": "stderr",
     "output_type": "stream",
     "text": [
      "(2017-05-24 12:18:43) (WARNING) [scheduler.validate_schedule #255]:  Antenna (ground_site2_2) had 20 contacts in this schedule! Maximum allowed: 6\n",
      "(2017-05-24 12:18:43) (WARNING) [scheduler.validate_schedule #255]:  Antenna (ground_site3_2) had 11 contacts in this schedule! Maximum allowed: 6\n",
      "(2017-05-24 12:18:43) (WARNING) [scheduler.validate_schedule #255]:  Antenna (ground_site4_1) had 8 contacts in this schedule! Maximum allowed: 6\n",
      "(2017-05-24 12:18:43) (WARNING) [scheduler.validate_schedule #255]:  Antenna (ground_site6_1) had 10 contacts in this schedule! Maximum allowed: 6\n",
      "(2017-05-24 12:18:43) (INFO) [scheduler.optimize_multipass #442]:  Satellite sat3 did not get enough passes (1). Applying higher weight for future runs: 1.0 -> 1.25\n",
      "(2017-05-24 12:18:43) (INFO) [scheduler.optimize_multipass #451]:  Antenna ground_site1_2a just (0). Applying higher weight for future runs: 1.0 -> 1.05\n",
      "(2017-05-24 12:18:43) (INFO) [scheduler.optimize_multipass #451]:  Antenna ground_site1_1 just (0). Applying higher weight for future runs: 0.5 -> 0.525\n",
      "(2017-05-24 12:18:43) (INFO) [scheduler.optimize_multipass #451]:  Antenna ground_site1_1a just (0). Applying higher weight for future runs: 1.0 -> 1.05\n",
      "(2017-05-24 12:18:43) (INFO) [scheduler.optimize_multipass #447]:  Antenna ground_site1_2 had too many passes (21). Applying lower weight for future runs: 1.05 -> 0.35000000000000003\n",
      "(2017-05-24 12:18:43) (INFO) [scheduler.optimize_multipass #447]:  Antenna ground_site2_2 had too many passes (20). Applying lower weight for future runs: 1.0 -> 0.3333333333333333\n",
      "(2017-05-24 12:18:43) (INFO) [scheduler.optimize_multipass #451]:  Antenna ground_site2_1 just (0). Applying higher weight for future runs: 0.5 -> 0.525\n",
      "(2017-05-24 12:18:43) (INFO) [scheduler.optimize_multipass #451]:  Antenna ground_site3_1 just (0). Applying higher weight for future runs: 1.0 -> 1.05\n",
      "(2017-05-24 12:18:43) (INFO) [scheduler.optimize_multipass #447]:  Antenna ground_site3_2 had too many passes (11). Applying lower weight for future runs: 1.05 -> 1.05\n",
      "(2017-05-24 12:18:43) (INFO) [scheduler.optimize_multipass #451]:  Antenna ground_site3_3 just (0). Applying higher weight for future runs: 1.0 -> 1.05\n",
      "(2017-05-24 12:18:43) (INFO) [scheduler.optimize_multipass #447]:  Antenna ground_site4_1 had too many passes (8). Applying lower weight for future runs: 1.05 -> 1.05\n",
      "(2017-05-24 12:18:43) (INFO) [scheduler.optimize_multipass #451]:  Antenna ground_site4_2 just (0). Applying higher weight for future runs: 1.0 -> 1.05\n",
      "(2017-05-24 12:18:43) (INFO) [scheduler.optimize_multipass #447]:  Antenna ground_site6_1 had too many passes (10). Applying lower weight for future runs: 1.0 -> 1.0\n"
     ]
    },
    {
     "name": "stdout",
     "output_type": "stream",
     "text": [
      "Cached DFS searching ........................................................................................"
     ]
    },
    {
     "name": "stderr",
     "output_type": "stream",
     "text": [
      "(2017-05-24 12:20:32) (INFO) [scheduler.optimize_multipass #435]:  Run 3: Best overall score 544467.5204062053\n",
      "(2017-05-24 12:20:32) (INFO) [scheduler.validate_schedule #231]:  Validating schedule consisting of contacts: (7181005, 7181849, 7182550, 7182679, 7184349, 7184198, 7184241, 7184351, 7184389, 7184450, 7185052, 7185802, 7185851, 7185918, 7185965, 7186009, 7186854, 7187532, 7187582, 7187655, 7187693, 7187757, 7188002, 7189984, 7190064, 7190148, 7190560, 7190631, 7190677, 7193054, 7194480, 7194620, 7195153, 7195312, 7195439, 7196701, 7196855, 7197021, 7197458, 7197567, 7197723, 7198455, 7198579, 7198703, 7198859, 7198966, 7199106, 7199893, 7200128, 7200304, 7200530, 7200643, 7200760, 7201596, 7202080, 7202318, 7202603, 7202826, 7202982, 7203126, 7204523, 7204878, 7205083, 7205178, 7205253, 7205371, 7205825, 7207344, 7207994, 7208148, 7208258, 7208346, 7208448, 7209874, 7210573, 7210867, 7211420, 7211536, 7211634, 7212058, 7213608, 7213775, 7214313, 7214467, 7214586, 7215372)\n",
      "(2017-05-24 12:20:32) (WARNING) [scheduler.validate_schedule #255]:  Antenna (ground_site1_1a) had 22 contacts in this schedule! Maximum allowed: 6\n",
      "(2017-05-24 12:20:32) (WARNING) [scheduler.validate_schedule #255]:  Antenna (ground_site2_1) had 12 contacts in this schedule! Maximum allowed: 6\n",
      "(2017-05-24 12:20:32) (WARNING) [scheduler.validate_schedule #255]:  Antenna (ground_site3_1) had 8 contacts in this schedule! Maximum allowed: 6\n"
     ]
    },
    {
     "name": "stdout",
     "output_type": "stream",
     "text": [
      "\r",
      "Cached DFS searching .\n"
     ]
    },
    {
     "name": "stderr",
     "output_type": "stream",
     "text": [
      "(2017-05-24 12:20:32) (WARNING) [scheduler.validate_schedule #255]:  Antenna (ground_site3_3) had 8 contacts in this schedule! Maximum allowed: 6\n",
      "(2017-05-24 12:20:32) (WARNING) [scheduler.validate_schedule #255]:  Antenna (ground_site6_1) had 10 contacts in this schedule! Maximum allowed: 6\n",
      "(2017-05-24 12:20:32) (INFO) [scheduler.optimize_multipass #451]:  Antenna ground_site1_2b just (2). Applying higher weight for future runs: 1.05 -> 1.1025\n",
      "(2017-05-24 12:20:32) (INFO) [scheduler.optimize_multipass #451]:  Antenna ground_site1_2c just (1). Applying higher weight for future runs: 1.05 -> 1.1025\n",
      "(2017-05-24 12:20:32) (INFO) [scheduler.optimize_multipass #451]:  Antenna ground_site1_1 just (0). Applying higher weight for future runs: 0.525 -> 0.55125\n",
      "(2017-05-24 12:20:32) (INFO) [scheduler.optimize_multipass #447]:  Antenna ground_site1_1a had too many passes (22). Applying lower weight for future runs: 1.05 -> 0.35000000000000003\n",
      "(2017-05-24 12:20:32) (INFO) [scheduler.optimize_multipass #451]:  Antenna ground_site1_2 just (0). Applying higher weight for future runs: 0.35000000000000003 -> 0.36750000000000005\n",
      "(2017-05-24 12:20:32) (INFO) [scheduler.optimize_multipass #451]:  Antenna ground_site2_2 just (0). Applying higher weight for future runs: 0.3333333333333333 -> 0.35\n",
      "(2017-05-24 12:20:32) (INFO) [scheduler.optimize_multipass #447]:  Antenna ground_site2_1 had too many passes (12). Applying lower weight for future runs: 0.525 -> 0.2625\n",
      "(2017-05-24 12:20:32) (INFO) [scheduler.optimize_multipass #447]:  Antenna ground_site3_1 had too many passes (8). Applying lower weight for future runs: 1.05 -> 1.05\n",
      "(2017-05-24 12:20:32) (INFO) [scheduler.optimize_multipass #451]:  Antenna ground_site3_2 just (1). Applying higher weight for future runs: 1.05 -> 1.1025\n",
      "(2017-05-24 12:20:32) (INFO) [scheduler.optimize_multipass #447]:  Antenna ground_site3_3 had too many passes (8). Applying lower weight for future runs: 1.05 -> 1.05\n",
      "(2017-05-24 12:20:32) (INFO) [scheduler.optimize_multipass #447]:  Antenna ground_site6_1 had too many passes (10). Applying lower weight for future runs: 1.0 -> 1.0\n",
      "(2017-05-24 12:20:33) (INFO) [scheduler.optimize_multipass #468]:  Publishing last run and writing sumamry reports\n",
      "(2017-05-24 12:20:33) (INFO) [scheduler.publish_sched #506]:  Publishing 86 Accesses as a new schedule, with associated reports included\n",
      "(2017-05-24 12:20:33) (INFO) [scheduler.validate_schedule #231]:  Validating schedule consisting of contacts: (7181005, 7181849, 7182550, 7182679, 7184349, 7184198, 7184241, 7184351, 7184389, 7184450, 7185052, 7185802, 7185851, 7185918, 7185965, 7186009, 7186854, 7187532, 7187582, 7187655, 7187693, 7187757, 7188002, 7189984, 7190064, 7190148, 7190560, 7190631, 7190677, 7193054, 7194480, 7194620, 7195153, 7195312, 7195439, 7196701, 7196855, 7197021, 7197458, 7197567, 7197723, 7198455, 7198579, 7198703, 7198859, 7198966, 7199106, 7199893, 7200128, 7200304, 7200530, 7200643, 7200760, 7201596, 7202080, 7202318, 7202603, 7202826, 7202982, 7203126, 7204523, 7204878, 7205083, 7205178, 7205253, 7205371, 7205825, 7207344, 7207994, 7208148, 7208258, 7208346, 7208448, 7209874, 7210573, 7210867, 7211420, 7211536, 7211634, 7212058, 7213608, 7213775, 7214313, 7214467, 7214586, 7215372)\n",
      "(2017-05-24 12:20:33) (WARNING) [scheduler.validate_schedule #255]:  Antenna (ground_site1_1a) had 22 contacts in this schedule! Maximum allowed: 6\n",
      "(2017-05-24 12:20:33) (WARNING) [scheduler.validate_schedule #255]:  Antenna (ground_site2_1) had 12 contacts in this schedule! Maximum allowed: 6\n",
      "(2017-05-24 12:20:33) (WARNING) [scheduler.validate_schedule #255]:  Antenna (ground_site3_1) had 8 contacts in this schedule! Maximum allowed: 6\n",
      "(2017-05-24 12:20:33) (WARNING) [scheduler.validate_schedule #255]:  Antenna (ground_site3_3) had 8 contacts in this schedule! Maximum allowed: 6\n",
      "(2017-05-24 12:20:33) (WARNING) [scheduler.validate_schedule #255]:  Antenna (ground_site6_1) had 10 contacts in this schedule! Maximum allowed: 6\n",
      "(2017-05-24 12:20:33) (DEBUG) [connectionpool._new_conn #818]:  Starting new HTTPS connection (1): plot.ly\n",
      "(2017-05-24 12:20:36) (DEBUG) [connectionpool._make_request #395]:  https://plot.ly:443 \"POST /clientresp HTTP/1.1\" 200 None\n",
      "(2017-05-24 12:20:36) (INFO) [scheduler.publish_sched #535]:  Published schedule and associated reports/plots are now available in schedule_span20170215-20170216\n",
      "(2017-05-24 12:20:36) (INFO) [scheduler.publish_sched #539]:  New schedule saved to schedule_span20170215-20170216/access_schedule-20170524-1220_score-450221.csv, report statistics saved to: schedule_span20170215-20170216/ScheduleReport-20170524-1220_score-450221.json\n"
     ]
    }
   ],
   "source": [
    "g = scheduler.SchedulerGraph()\n",
    "scores, paths, stats = g.optimize_multipass(num_passes=3, publish=True)"
   ]
  },
  {
   "cell_type": "code",
   "execution_count": 6,
   "metadata": {
    "collapsed": false
   },
   "outputs": [
    {
     "name": "stderr",
     "output_type": "stream",
     "text": [
      "(2017-05-24 12:24:41) (DEBUG) [connectionpool._new_conn #818]:  Starting new HTTPS connection (1): plot.ly\n",
      "(2017-05-24 12:24:45) (DEBUG) [connectionpool._make_request #395]:  https://plot.ly:443 \"POST /clientresp HTTP/1.1\" 200 None\n"
     ]
    },
    {
     "data": {
      "text/html": [
       "<iframe id=\"igraph\" scrolling=\"no\" style=\"border:none;\" seamless=\"seamless\" src=\"https://plot.ly/~dischnerz/2.embed\" height=\"600px\" width=\"900px\"></iframe>"
      ],
      "text/plain": [
       "<plotly.tools.PlotlyDisplay object>"
      ]
     },
     "execution_count": 6,
     "metadata": {},
     "output_type": "execute_result"
    }
   ],
   "source": [
    "scheduler.plot_schedule(g.filter_accesses(g.optimal_schedule))\n"
   ]
  },
  {
   "cell_type": "code",
   "execution_count": null,
   "metadata": {
    "collapsed": true
   },
   "outputs": [],
   "source": []
  }
 ],
 "metadata": {
  "kernelspec": {
   "display_name": "Python 3",
   "language": "python",
   "name": "python3"
  },
  "language_info": {
   "codemirror_mode": {
    "name": "ipython",
    "version": 3
   },
   "file_extension": ".py",
   "mimetype": "text/x-python",
   "name": "python",
   "nbconvert_exporter": "python",
   "pygments_lexer": "ipython3",
   "version": "3.6.0"
  }
 },
 "nbformat": 4,
 "nbformat_minor": 2
}
